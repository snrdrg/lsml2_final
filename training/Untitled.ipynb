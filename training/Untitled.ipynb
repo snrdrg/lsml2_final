{
 "cells": [
  {
   "cell_type": "code",
   "execution_count": null,
   "id": "372ea2f2",
   "metadata": {},
   "outputs": [
    {
     "name": "stderr",
     "output_type": "stream",
     "text": [
      "C:\\Users\\anton\\AppData\\Local\\Programs\\Python\\Python311\\Lib\\site-packages\\tqdm\\auto.py:21: TqdmWarning: IProgress not found. Please update jupyter and ipywidgets. See https://ipywidgets.readthedocs.io/en/stable/user_install.html\n",
      "  from .autonotebook import tqdm as notebook_tqdm\n"
     ]
    }
   ],
   "source": [
    "from datasets import load_dataset\n",
    "from transformers import pipeline\n",
    "import pandas as pd\n",
    "import plotly.express as px\n",
    "\n",
    "# download the tweets dataset\n",
    "dataset = load_dataset(\"carblacac/twitter-sentiment-analysis\", split=\"train\")\n",
    "\n",
    "# convert dataset to pandas dataframe\n",
    "df = pd.DataFrame(dataset).drop(\"feeling\", axis=1)"
   ]
  },
  {
   "cell_type": "code",
   "execution_count": null,
   "id": "6e344bc4",
   "metadata": {},
   "outputs": [],
   "source": [
    "# download pre-trained emotion classification model\n",
    "model = pipeline(\"text-classification\", model=\"j-hartmann/emotion-english-distilroberta-base\")\n",
    "\n",
    "# compute the emotion of each tweet using the model\n",
    "all_texts = df_subset[\"text\"].values.tolist()\n",
    "all_emotions = model(all_texts)\n",
    "df_subset[\"emotion_label\"] = [d[\"label\"] for d in all_emotions]\n",
    "df_subset[\"emotion_score\"] = [d[\"score\"] for d in all_emotions]"
   ]
  }
 ],
 "metadata": {
  "kernelspec": {
   "display_name": "Python 3 (ipykernel)",
   "language": "python",
   "name": "python3"
  },
  "language_info": {
   "codemirror_mode": {
    "name": "ipython",
    "version": 3
   },
   "file_extension": ".py",
   "mimetype": "text/x-python",
   "name": "python",
   "nbconvert_exporter": "python",
   "pygments_lexer": "ipython3",
   "version": "3.11.0"
  }
 },
 "nbformat": 4,
 "nbformat_minor": 5
}
